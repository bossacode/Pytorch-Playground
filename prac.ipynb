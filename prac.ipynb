{
 "cells": [
  {
   "cell_type": "code",
   "execution_count": 15,
   "metadata": {},
   "outputs": [
    {
     "name": "stdout",
     "output_type": "stream",
     "text": [
      "The autoreload extension is already loaded. To reload it, use:\n",
      "  %reload_ext autoreload\n"
     ]
    }
   ],
   "source": [
    "%load_ext autoreload\n",
    "%autoreload 2"
   ]
  },
  {
   "cell_type": "code",
   "execution_count": 112,
   "metadata": {},
   "outputs": [],
   "source": [
    "import torch\n",
    "import torch.nn as nn\n",
    "import gudhi\n",
    "import numpy as np\n",
    "from pllay2 import *"
   ]
  },
  {
   "cell_type": "code",
   "execution_count": 113,
   "metadata": {},
   "outputs": [
    {
     "name": "stdout",
     "output_type": "stream",
     "text": [
      "torch.Size([1, 28, 28])\n",
      "torch.Size([1, 784])\n"
     ]
    },
    {
     "data": {
      "text/plain": [
       "tensor(8)"
      ]
     },
     "execution_count": 113,
     "metadata": {},
     "output_type": "execute_result"
    }
   ],
   "source": [
    "train, test = torch.load('generated_data/mnist_x_original_00_00.pt')\n",
    "y_train, y_test = torch.load('generated_data/mnist_y.pt')\n",
    "\n",
    "flatten = nn.Flatten()\n",
    "\n",
    "num = 110\n",
    "input = test[num]\n",
    "print(input.shape)\n",
    "\n",
    "input.requires_grad_(True)\n",
    "\n",
    "flat_input = flatten(input)\n",
    "print(flat_input.shape)\n",
    "y_test[num]"
   ]
  },
  {
   "cell_type": "code",
   "execution_count": 114,
   "metadata": {},
   "outputs": [
    {
     "data": {
      "text/plain": [
       "torch.Size([1, 784, 2])"
      ]
     },
     "execution_count": 114,
     "metadata": {},
     "output_type": "execute_result"
    }
   ],
   "source": [
    "grid, _ = grid_by()\n",
    "grids = grid.expand(1,-1,-1)\n",
    "grids.shape"
   ]
  },
  {
   "cell_type": "code",
   "execution_count": 147,
   "metadata": {},
   "outputs": [
    {
     "data": {
      "text/plain": [
       "torch.Size([784])"
      ]
     },
     "execution_count": 147,
     "metadata": {},
     "output_type": "execute_result"
    }
   ],
   "source": [
    "dtm = DTMWeightLayer(m0=0.1)\n",
    "dtm_val = dtm(inputs=grids, weight=flat_input)\n",
    "dtm_val.shape"
   ]
  },
  {
   "cell_type": "code",
   "execution_count": 148,
   "metadata": {},
   "outputs": [
    {
     "data": {
      "text/plain": [
       "[(1, (0.13512589037418365, 0.21015091240406036)),\n",
       " (1, (0.13906122744083405, 0.1757250875234604)),\n",
       " (1, (0.2026510089635849, 0.20799443125724792)),\n",
       " (0, (0.10213412344455719, inf)),\n",
       " (0, (0.11382362246513367, 0.12899653613567352)),\n",
       " (0, (0.1146496906876564, 0.11905462294816971)),\n",
       " (0, (0.11796879768371582, 0.1219387874007225)),\n",
       " (0, (0.12033673375844955, 0.12048713862895966))]"
      ]
     },
     "execution_count": 148,
     "metadata": {},
     "output_type": "execute_result"
    }
   ],
   "source": [
    "cubcpx = gudhi.CubicalComplex(dimensions=(28, 28), top_dimensional_cells=(dtm_val).detach())\n",
    "cubcpx.persistence(homology_coeff_field=2, min_persistence=0)"
   ]
  },
  {
   "cell_type": "code",
   "execution_count": 154,
   "metadata": {},
   "outputs": [
    {
     "data": {
      "text/plain": [
       "[[array([[187, 243],\n",
       "         [548, 520],\n",
       "         [492, 464],\n",
       "         [596, 459]]),\n",
       "  array([[183, 239],\n",
       "         [516, 544],\n",
       "         [629, 517]])],\n",
       " [array([378])]]"
      ]
     },
     "execution_count": 154,
     "metadata": {},
     "output_type": "execute_result"
    }
   ],
   "source": [
    "loc = cubcpx.cofaces_of_persistence_pairs()\n",
    "loc"
   ]
  },
  {
   "cell_type": "code",
   "execution_count": 161,
   "metadata": {},
   "outputs": [
    {
     "data": {
      "text/plain": [
       "array([187, 548, 492, 596, 183, 516, 629, 378])"
      ]
     },
     "execution_count": 161,
     "metadata": {},
     "output_type": "execute_result"
    }
   ],
   "source": [
    "locationVstack = [np.vstack(loc[0]), np.vstack(loc[1])]\n",
    "np.concatenate((locationVstack[0][:, 0], locationVstack[1][:, 0]))"
   ]
  },
  {
   "cell_type": "code",
   "execution_count": 150,
   "metadata": {},
   "outputs": [
    {
     "data": {
      "text/plain": [
       "array([], dtype=int64)"
      ]
     },
     "execution_count": 150,
     "metadata": {},
     "output_type": "execute_result"
    }
   ],
   "source": [
    "[np.zeros((0,2), dtype=np.int64), np.vstack(loc[1])][0][:,0]"
   ]
  },
  {
   "cell_type": "code",
   "execution_count": 151,
   "metadata": {},
   "outputs": [
    {
     "data": {
      "text/plain": [
       "array([], shape=(0, 2), dtype=float64)"
      ]
     },
     "execution_count": 151,
     "metadata": {},
     "output_type": "execute_result"
    }
   ],
   "source": [
    "np.zeros((0,2))"
   ]
  },
  {
   "cell_type": "code",
   "execution_count": 152,
   "metadata": {},
   "outputs": [],
   "source": [
    "if not loc[0]:\n",
    "    print(1)"
   ]
  }
 ],
 "metadata": {
  "kernelspec": {
   "display_name": "pllay",
   "language": "python",
   "name": "python3"
  },
  "language_info": {
   "codemirror_mode": {
    "name": "ipython",
    "version": 3
   },
   "file_extension": ".py",
   "mimetype": "text/x-python",
   "name": "python",
   "nbconvert_exporter": "python",
   "pygments_lexer": "ipython3",
   "version": "3.10.13"
  },
  "orig_nbformat": 4
 },
 "nbformat": 4,
 "nbformat_minor": 2
}
