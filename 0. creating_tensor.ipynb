{
 "cells": [
  {
   "cell_type": "code",
   "execution_count": 1,
   "metadata": {},
   "outputs": [],
   "source": [
    "import torch\n",
    "import numpy as np"
   ]
  },
  {
   "attachments": {},
   "cell_type": "markdown",
   "metadata": {},
   "source": [
    "\n",
    "https://pytorch.org/docs/stable/tensors.html"
   ]
  },
  {
   "attachments": {},
   "cell_type": "markdown",
   "metadata": {},
   "source": [
    "# *class* torch.Tensor\n",
    "\n",
    "There are a few main ways to create a tensor, depending on your use case.\n",
    "\n",
    "* To create a tensor with pre-existing data, use torch.tensor()\n",
    "\n",
    "* To create a tensor with specific size, use torch.* tensor creation ops\n",
    "\n",
    "* To create a tensor with the same size (and similar types) as another tensor, use torch.*_like tensor creation ops\n",
    "\n",
    "* To create a tensor with similar type but different size as another tensor, use tensor.new_* creation ops"
   ]
  },
  {
   "cell_type": "code",
   "execution_count": 65,
   "metadata": {},
   "outputs": [
    {
     "name": "stdout",
     "output_type": "stream",
     "text": [
      "<class 'torch.Tensor'>\n"
     ]
    },
    {
     "data": {
      "text/plain": [
       "True"
      ]
     },
     "execution_count": 65,
     "metadata": {},
     "output_type": "execute_result"
    }
   ],
   "source": [
    "# all tensors are instances of torch.Tensor\n",
    "\n",
    "t = torch.tensor([1.0, 2.0, 3.0])\n",
    "print(type(t))\n",
    "isinstance(t, torch.Tensor)"
   ]
  },
  {
   "cell_type": "code",
   "execution_count": 47,
   "metadata": {},
   "outputs": [
    {
     "data": {
      "text/plain": [
       "(True, False)"
      ]
     },
     "execution_count": 47,
     "metadata": {},
     "output_type": "execute_result"
    }
   ],
   "source": [
    "# since dtype is torch.float32, t is also instance of torch.FloatTensor \n",
    "\n",
    "isinstance(t, torch.FloatTensor), isinstance(t, torch.LongTensor)"
   ]
  },
  {
   "cell_type": "code",
   "execution_count": 42,
   "metadata": {},
   "outputs": [
    {
     "data": {
      "text/plain": [
       "False"
      ]
     },
     "execution_count": 42,
     "metadata": {},
     "output_type": "execute_result"
    }
   ],
   "source": [
    "# torch.FloatTensor is not inherit torch.Tensor\n",
    "\n",
    "issubclass(torch.FloatTensor, torch.Tensor)"
   ]
  },
  {
   "cell_type": "code",
   "execution_count": 158,
   "metadata": {},
   "outputs": [
    {
     "data": {
      "text/plain": [
       "tensor([[1.2686e-34, 0.0000e+00, 1.4091e-34],\n",
       "        [0.0000e+00, 7.9717e-10, 1.0524e+21]])"
      ]
     },
     "execution_count": 158,
     "metadata": {},
     "output_type": "execute_result"
    }
   ],
   "source": [
    "# create tensors of particular size with __call__\n",
    "\n",
    "torch.Tensor(2,3)"
   ]
  },
  {
   "attachments": {},
   "cell_type": "markdown",
   "metadata": {},
   "source": [
    "torch.Tensor is an alias for the default tensor type (torch.FloatTensor)"
   ]
  },
  {
   "attachments": {},
   "cell_type": "markdown",
   "metadata": {},
   "source": [
    "# torch.tensor(data)\n",
    "\n",
    "https://pytorch.org/docs/stable/generated/torch.tensor.html\n",
    "\n",
    "    torch.tensor(data) always creates a **copy** of data with no autograd history!!"
   ]
  },
  {
   "cell_type": "code",
   "execution_count": null,
   "metadata": {},
   "outputs": [],
   "source": [
    "# 3 parameters for torch.tensor()\n",
    "\n",
    "TENSOR = torch.tensor([1,2,3], dtype=torch.float32,\n",
    "                               device='cpu',\n",
    "                               requires_grad=False)"
   ]
  },
  {
   "cell_type": "code",
   "execution_count": 84,
   "metadata": {},
   "outputs": [
    {
     "name": "stdout",
     "output_type": "stream",
     "text": [
      "[100   2   3]\n",
      "tensor([1, 2, 3])\n"
     ]
    }
   ],
   "source": [
    "data = np.array([1,2,3])\n",
    "t = torch.tensor(data)\n",
    "\n",
    "data[0] = 100\n",
    "\n",
    "print(data)\n",
    "print(t)        # t is a copy"
   ]
  },
  {
   "attachments": {},
   "cell_type": "markdown",
   "metadata": {},
   "source": [
    "## Avoid Making Copies"
   ]
  },
  {
   "attachments": {},
   "cell_type": "markdown",
   "metadata": {},
   "source": [
    "### 1. torch.as_tensor(data)\n",
    "\n",
    "https://pytorch.org/docs/stable/generated/torch.as_tensor.html#torch.as_tensor\n",
    "\n",
    "Converts data into a tensor, **sharing data** and preserving autograd history if possible"
   ]
  },
  {
   "attachments": {},
   "cell_type": "markdown",
   "metadata": {},
   "source": [
    "If data is a NumPy array with the same dtype and device then a tensor is constructed using torch.from_numpy()"
   ]
  },
  {
   "cell_type": "code",
   "execution_count": 149,
   "metadata": {},
   "outputs": [
    {
     "data": {
      "text/plain": [
       "tensor([100,   2,   3])"
      ]
     },
     "execution_count": 149,
     "metadata": {},
     "output_type": "execute_result"
    }
   ],
   "source": [
    "data = np.array([1,2,3])\n",
    "t = torch.as_tensor(data)\n",
    "\n",
    "data[0] = 100\n",
    "\n",
    "t   # shares data and not a copy"
   ]
  },
  {
   "attachments": {},
   "cell_type": "markdown",
   "metadata": {},
   "source": [
    "If data is a tensor or ndarray(NumPy) with a different dtype or device then it’s **copied** as if using data.to(dtype=dtype, device=device)\n",
    "\n",
    "    Change of device or dtype always results in a copy"
   ]
  },
  {
   "cell_type": "code",
   "execution_count": 150,
   "metadata": {},
   "outputs": [
    {
     "data": {
      "text/plain": [
       "(tensor([1., 2., 3.], dtype=torch.float16),\n",
       " tensor([1., 2., 3.], dtype=torch.float16))"
      ]
     },
     "execution_count": 150,
     "metadata": {},
     "output_type": "execute_result"
    }
   ],
   "source": [
    "data1 = torch.tensor(([1,2,3]))\n",
    "data2 = np.array([1,2,3])\n",
    "\n",
    "t1 = torch.as_tensor(data1, dtype=torch.float16)\n",
    "t2 = torch.as_tensor(data2, dtype=torch.float16)\n",
    "\n",
    "data1[0], data2[0] = 100, 100\n",
    "\n",
    "t1, t2   # both are copy"
   ]
  },
  {
   "attachments": {},
   "cell_type": "markdown",
   "metadata": {},
   "source": [
    "### 2. torch.from_numpy(data)\n",
    "\n",
    "https://pytorch.org/docs/stable/generated/torch.from_numpy.html#torch.from_numpy\n",
    "\n",
    "Creates a Tensor from a numpy.ndarray. The returned tensor and ndarray **share the same memory**"
   ]
  },
  {
   "cell_type": "code",
   "execution_count": 3,
   "metadata": {},
   "outputs": [
    {
     "name": "stdout",
     "output_type": "stream",
     "text": [
      "tensor([100,   2,   3])\n"
     ]
    }
   ],
   "source": [
    "data = np.array([1,2,3])\n",
    "t = torch.from_numpy(data)\n",
    "\n",
    "data[0] = 100\n",
    "\n",
    "print(t)    # shares data and not a copy"
   ]
  },
  {
   "attachments": {},
   "cell_type": "markdown",
   "metadata": {},
   "source": [
    "# Tensor Attributes\n",
    "\n",
    "https://pytorch.org/docs/stable/tensor_attributes.html#tensor-attributes-doc\n",
    "\n",
    "1. dtype\n",
    "\n",
    "2. device\n",
    "\n",
    "3. layout"
   ]
  },
  {
   "cell_type": "code",
   "execution_count": 6,
   "metadata": {},
   "outputs": [],
   "source": [
    "TENSOR = torch.tensor([1,2,3], dtype=torch.float32,\n",
    "                               device='cpu',\n",
    "                               requires_grad=False)"
   ]
  },
  {
   "attachments": {},
   "cell_type": "markdown",
   "metadata": {},
   "source": [
    "## 1. torch.dtype"
   ]
  },
  {
   "cell_type": "code",
   "execution_count": 60,
   "metadata": {},
   "outputs": [
    {
     "name": "stdout",
     "output_type": "stream",
     "text": [
      "dtype: torch.float16\n"
     ]
    }
   ],
   "source": [
    "ht = torch.tensor([1.5, 2.1, 3.0], dtype=torch.float16)\n",
    "ht\n",
    "print('dtype:', ht.dtype)"
   ]
  },
  {
   "cell_type": "code",
   "execution_count": 61,
   "metadata": {},
   "outputs": [
    {
     "name": "stdout",
     "output_type": "stream",
     "text": [
      "tensor([1, 2, 3])\n",
      "dtype: torch.int64\n"
     ]
    }
   ],
   "source": [
    "# 정수형 tensor에서 default dtype은 torch.int64\n",
    "\n",
    "it = torch.tensor([1,2,3])\n",
    "print(it)\n",
    "print('dtype:', it.dtype)"
   ]
  },
  {
   "cell_type": "code",
   "execution_count": 62,
   "metadata": {},
   "outputs": [
    {
     "name": "stdout",
     "output_type": "stream",
     "text": [
      "tensor([1.5000, 2.1000, 3.0000])\n",
      "dtype: torch.float32\n"
     ]
    }
   ],
   "source": [
    "# 실수형 tensor에서 default dtype은 torch.float32\n",
    "\n",
    "ft = torch.tensor([1.5, 2.1, 3.0])\n",
    "print(ft)\n",
    "print('dtype:', ft.dtype)"
   ]
  },
  {
   "attachments": {},
   "cell_type": "markdown",
   "metadata": {},
   "source": [
    "### calculating bet. different dtypes\n",
    "\n",
    "check official document of Tensor Attributes"
   ]
  },
  {
   "attachments": {},
   "cell_type": "markdown",
   "metadata": {},
   "source": [
    "## 2. torch.device\n",
    "\n",
    "check official document of Tensor Attributes for further detail"
   ]
  },
  {
   "cell_type": "code",
   "execution_count": 94,
   "metadata": {},
   "outputs": [
    {
     "name": "stdout",
     "output_type": "stream",
     "text": [
      "current device: cpu\n"
     ]
    }
   ],
   "source": [
    "device = torch.device('cpu')\n",
    "t = torch.tensor([1,2,3], device=device)\n",
    "\n",
    "print('current device:', t.device)"
   ]
  },
  {
   "attachments": {},
   "cell_type": "markdown",
   "metadata": {},
   "source": [
    "## 3. torch.layout\n",
    "\n",
    "torch.layout is an object that represents the memory layout of a torch.Tensor.\n",
    "\n",
    "Currently, 1. torch.strided (dense Tensors) is supported and have beta support for 2. torch.sparse_coo (sparse COO Tensors)\n",
    "\n",
    "torch.strided represents dense Tensors. Each strided tensor has an associated torch.Storage, which holds its data. The tensor class provides multi-dimensional, strided view of a storage"
   ]
  },
  {
   "cell_type": "code",
   "execution_count": 117,
   "metadata": {},
   "outputs": [
    {
     "name": "stdout",
     "output_type": "stream",
     "text": [
      "tensor([[ 0,  1,  2,  3],\n",
      "        [ 4,  5,  6,  7],\n",
      "        [ 8,  9, 10, 11]])\n",
      "layout: torch.strided\n",
      "storage:  0\n",
      " 1\n",
      " 2\n",
      " 3\n",
      " 4\n",
      " 5\n",
      " 6\n",
      " 7\n",
      " 8\n",
      " 9\n",
      " 10\n",
      " 11\n",
      "[torch.storage.TypedStorage(dtype=torch.int64, device=cpu) of size 12]\n",
      "stride: (4, 1)\n",
      "--------------------------------------------------\n",
      "tensor([[ 0,  4,  8],\n",
      "        [ 1,  5,  9],\n",
      "        [ 2,  6, 10],\n",
      "        [ 3,  7, 11]])\n",
      "layout: torch.strided\n",
      "storage:  0\n",
      " 1\n",
      " 2\n",
      " 3\n",
      " 4\n",
      " 5\n",
      " 6\n",
      " 7\n",
      " 8\n",
      " 9\n",
      " 10\n",
      " 11\n",
      "[torch.storage.TypedStorage(dtype=torch.int64, device=cpu) of size 12]\n",
      "stride: (1, 4)\n"
     ]
    }
   ],
   "source": [
    "t = torch.arange(0, 12).view(3,4)\n",
    "tT = t.T\n",
    "\n",
    "\n",
    "print(t)\n",
    "print('layout:', t.layout)\n",
    "print('storage:', t.storage())\n",
    "print('stride:', t.stride())\n",
    "\n",
    "print('-' * 50)\n",
    "\n",
    "print(tT)\n",
    "print('layout:', tT.layout)\n",
    "print('storage:', tT.storage())\n",
    "print('stride:', tT.stride())"
   ]
  },
  {
   "attachments": {},
   "cell_type": "markdown",
   "metadata": {},
   "source": [
    "## Changing dtype and device\n",
    "\n",
    "all methods for changing dtypes and device make a **copy**"
   ]
  },
  {
   "cell_type": "code",
   "execution_count": 51,
   "metadata": {},
   "outputs": [
    {
     "name": "stdout",
     "output_type": "stream",
     "text": [
      "original tensor before change: tensor([1, 2, 3])\n",
      "original tensor after change: tensor([100,   2,   3])\n",
      "tensor ft1: tensor([1., 2., 3.])\n",
      "tensor ft2: tensor([1., 2., 3.])\n",
      "tensor ft3: tensor([1., 2., 3.])\n"
     ]
    }
   ],
   "source": [
    "# changing dtype\n",
    "\n",
    "it = torch.tensor([1,2,3])\n",
    "print('original tensor before change:', it)\n",
    "\n",
    "# 1. torch.Tensor.type()\n",
    "ft1 = it.type(torch.float32)    # copy\n",
    "\n",
    "# 2.  torch.Tensor.float()\n",
    "ft2 = it.float()                # copy\n",
    "\n",
    "# 3. torch.Tensor.to()\n",
    "ft3 = it.to(torch.float32)      # copy\n",
    "\n",
    "\n",
    "it[0] = 100\n",
    "\n",
    "print('original tensor after change:', it)\n",
    "print('tensor ft1:', ft1)\n",
    "print('tensor ft2:', ft2)\n",
    "print('tensor ft3:', ft3)"
   ]
  },
  {
   "cell_type": "code",
   "execution_count": 132,
   "metadata": {},
   "outputs": [],
   "source": [
    "# changing device\n",
    "\n",
    "t = torch.tensor([1,2,3], device='cpu')\n",
    "\n",
    "# t.to('cuda')      # copy"
   ]
  },
  {
   "attachments": {},
   "cell_type": "markdown",
   "metadata": {},
   "source": [
    "# etc"
   ]
  },
  {
   "attachments": {},
   "cell_type": "markdown",
   "metadata": {},
   "source": [
    "## requires_grad"
   ]
  },
  {
   "cell_type": "code",
   "execution_count": 155,
   "metadata": {},
   "outputs": [
    {
     "name": "stdout",
     "output_type": "stream",
     "text": [
      "requires grad: True\n",
      "requires grad: False\n"
     ]
    }
   ],
   "source": [
    "t = torch.tensor([1., 2., 3.], requires_grad=True)\n",
    "print('requires grad:', t.requires_grad)\n",
    "\n",
    "t.requires_grad_(False)     # change requires_grad\n",
    "print('requires grad:', t.requires_grad)"
   ]
  },
  {
   "attachments": {},
   "cell_type": "markdown",
   "metadata": {},
   "source": [
    "## torch.Tensor.item()"
   ]
  },
  {
   "cell_type": "code",
   "execution_count": 159,
   "metadata": {},
   "outputs": [
    {
     "data": {
      "text/plain": [
       "(tensor(1), 1)"
      ]
     },
     "execution_count": 159,
     "metadata": {},
     "output_type": "execute_result"
    }
   ],
   "source": [
    "t = torch.tensor(1)\n",
    "t, t.item()"
   ]
  }
 ],
 "metadata": {
  "kernelspec": {
   "display_name": "DL",
   "language": "python",
   "name": "python3"
  },
  "language_info": {
   "codemirror_mode": {
    "name": "ipython",
    "version": 3
   },
   "file_extension": ".py",
   "mimetype": "text/x-python",
   "name": "python",
   "nbconvert_exporter": "python",
   "pygments_lexer": "ipython3",
   "version": "3.8.16"
  },
  "orig_nbformat": 4
 },
 "nbformat": 4,
 "nbformat_minor": 2
}
