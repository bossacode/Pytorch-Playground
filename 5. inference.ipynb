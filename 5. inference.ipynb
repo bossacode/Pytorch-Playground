{
 "cells": [
  {
   "cell_type": "code",
   "execution_count": 1,
   "metadata": {},
   "outputs": [],
   "source": [
    "import torch"
   ]
  },
  {
   "cell_type": "markdown",
   "metadata": {},
   "source": [
    "# torch.no_grad() vs torch.inference_mode()"
   ]
  },
  {
   "cell_type": "code",
   "execution_count": 19,
   "metadata": {},
   "outputs": [
    {
     "data": {
      "text/plain": [
       "(True, False)"
      ]
     },
     "execution_count": 19,
     "metadata": {},
     "output_type": "execute_result"
    }
   ],
   "source": [
    "with torch.no_grad():\n",
    "    x = torch.randn(1, requires_grad=True)  # requires_grad=True can be set, but it has no meaning since the gradient isn't passed to y\n",
    "    y = x + 1\n",
    "\n",
    "x.requires_grad, y.requires_grad"
   ]
  },
  {
   "cell_type": "code",
   "execution_count": 20,
   "metadata": {},
   "outputs": [
    {
     "data": {
      "text/plain": [
       "tensor([1.6614], requires_grad=True)"
      ]
     },
     "execution_count": 20,
     "metadata": {},
     "output_type": "execute_result"
    }
   ],
   "source": [
    "torch.manual_seed(1)\n",
    "\n",
    "with torch.no_grad():\n",
    "    x = torch.randn(1)\n",
    "    y = x + 1\n",
    "\n",
    "y.requires_grad_(True)"
   ]
  },
  {
   "cell_type": "code",
   "execution_count": 21,
   "metadata": {},
   "outputs": [
    {
     "data": {
      "text/plain": [
       "(True, False)"
      ]
     },
     "execution_count": 21,
     "metadata": {},
     "output_type": "execute_result"
    }
   ],
   "source": [
    "with torch.inference_mode():\n",
    "    x = torch.randn(1, requires_grad=True)\n",
    "    y = x + 1\n",
    "\n",
    "x.requires_grad, y.requires_grad"
   ]
  },
  {
   "cell_type": "code",
   "execution_count": 22,
   "metadata": {},
   "outputs": [
    {
     "ename": "RuntimeError",
     "evalue": "Setting requires_grad=True on inference tensor outside InferenceMode is not allowed.",
     "output_type": "error",
     "traceback": [
      "\u001b[0;31m---------------------------------------------------------------------------\u001b[0m",
      "\u001b[0;31mRuntimeError\u001b[0m                              Traceback (most recent call last)",
      "Cell \u001b[0;32mIn[22], line 5\u001b[0m\n\u001b[1;32m      2\u001b[0m     x \u001b[39m=\u001b[39m torch\u001b[39m.\u001b[39mrandn(\u001b[39m1\u001b[39m)\n\u001b[1;32m      3\u001b[0m     y \u001b[39m=\u001b[39m x \u001b[39m+\u001b[39m \u001b[39m1\u001b[39m\n\u001b[0;32m----> 5\u001b[0m y\u001b[39m.\u001b[39;49mrequires_grad_(\u001b[39mTrue\u001b[39;49;00m)      \u001b[39m# not allowed to set the requires_grad attribute on tensors from an inference_mode context\u001b[39;00m\n",
      "\u001b[0;31mRuntimeError\u001b[0m: Setting requires_grad=True on inference tensor outside InferenceMode is not allowed."
     ]
    }
   ],
   "source": [
    "with torch.inference_mode():\n",
    "    x = torch.randn(1)\n",
    "    y = x + 1\n",
    "\n",
    "y.requires_grad_(True)      # not allowed to set the requires_grad attribute on tensors from an inference_mode context"
   ]
  },
  {
   "cell_type": "code",
   "execution_count": 70,
   "metadata": {},
   "outputs": [
    {
     "data": {
      "text/plain": [
       "Sequential(\n",
       "  (0): Linear(in_features=1, out_features=10, bias=True)\n",
       "  (1): Linear(in_features=10, out_features=1, bias=True)\n",
       ")"
      ]
     },
     "execution_count": 70,
     "metadata": {},
     "output_type": "execute_result"
    }
   ],
   "source": [
    "import torch.nn as nn\n",
    "\n",
    "\n",
    "m = nn.Sequential(nn.Linear(1,10), nn.Linear(10,1))\n",
    "\n",
    "m"
   ]
  },
  {
   "cell_type": "code",
   "execution_count": 93,
   "metadata": {},
   "outputs": [
    {
     "data": {
      "text/plain": [
       "tensor([27.4507], grad_fn=<AddBackward0>)"
      ]
     },
     "execution_count": 93,
     "metadata": {},
     "output_type": "execute_result"
    }
   ],
   "source": [
    "x = torch.randn(1)\n",
    "\n",
    "weight = torch.tensor(10., requires_grad=True); bias = torch.tensor(2., requires_grad=True)\n",
    "\n",
    "pred = weight * x + bias\n",
    "\n",
    "\n"
   ]
  }
 ],
 "metadata": {
  "kernelspec": {
   "display_name": "DL",
   "language": "python",
   "name": "python3"
  },
  "language_info": {
   "codemirror_mode": {
    "name": "ipython",
    "version": 3
   },
   "file_extension": ".py",
   "mimetype": "text/x-python",
   "name": "python",
   "nbconvert_exporter": "python",
   "pygments_lexer": "ipython3",
   "version": "3.8.16"
  },
  "orig_nbformat": 4
 },
 "nbformat": 4,
 "nbformat_minor": 2
}
