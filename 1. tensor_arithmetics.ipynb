{
 "cells": [
  {
   "cell_type": "code",
   "execution_count": 2,
   "metadata": {},
   "outputs": [],
   "source": [
    "import torch"
   ]
  },
  {
   "attachments": {},
   "cell_type": "markdown",
   "metadata": {},
   "source": [
    "# Tensor Arithmetric Operations"
   ]
  },
  {
   "cell_type": "markdown",
   "metadata": {},
   "source": [
    "## Addition"
   ]
  },
  {
   "cell_type": "code",
   "execution_count": 14,
   "metadata": {},
   "outputs": [
    {
     "name": "stdout",
     "output_type": "stream",
     "text": [
      "matrix M:\n",
      " tensor([[1., 0., 0.],\n",
      "        [0., 1., 0.],\n",
      "        [0., 0., 1.]])\n",
      "--------------------------------------------------\n",
      "matrix M + 1:\n",
      " tensor([[2., 1., 1.],\n",
      "        [1., 2., 1.],\n",
      "        [1., 1., 2.]])\n",
      "--------------------------------------------------\n",
      "matrix M + 1:\n",
      " tensor([[2., 1., 1.],\n",
      "        [1., 2., 1.],\n",
      "        [1., 1., 2.]])\n",
      "--------------------------------------------------\n",
      "matrix M + 1:\n",
      " tensor([[2., 1., 1.],\n",
      "        [1., 2., 1.],\n",
      "        [1., 1., 2.]])\n",
      "--------------------------------------------------\n",
      "matrix M:\n",
      " tensor([[1., 0., 0.],\n",
      "        [0., 1., 0.],\n",
      "        [0., 0., 1.]])\n"
     ]
    }
   ],
   "source": [
    "M = torch.eye(3,3)\n",
    "\n",
    "print('matrix M:\\n', M)\n",
    "print('-' * 50)\n",
    "print('matrix M + 1:\\n', M + 1)\n",
    "print('-' * 50)\n",
    "print('matrix M + 1:\\n', M.add(1))\n",
    "print('-' * 50)\n",
    "print('matrix M + 1:\\n', torch.add(M, 1))\n",
    "print('-' * 50)\n",
    "print('matrix M:\\n', M)     # original matrix didn't change"
   ]
  },
  {
   "cell_type": "code",
   "execution_count": 17,
   "metadata": {},
   "outputs": [
    {
     "name": "stdout",
     "output_type": "stream",
     "text": [
      "matrix M + 1:\n",
      " tensor([[2., 1., 1.],\n",
      "        [1., 2., 1.],\n",
      "        [1., 1., 2.]])\n",
      "--------------------------------------------------\n",
      "matrix M:\n",
      " tensor([[2., 1., 1.],\n",
      "        [1., 2., 1.],\n",
      "        [1., 1., 2.]])\n"
     ]
    }
   ],
   "source": [
    "print('matrix M + 1:\\n', M.add_(1))     # inplace operation\n",
    "print('-' * 50)\n",
    "print('matrix M:\\n', M)     # original matrix changed"
   ]
  },
  {
   "cell_type": "markdown",
   "metadata": {},
   "source": [
    "## Subtraction"
   ]
  },
  {
   "cell_type": "code",
   "execution_count": 22,
   "metadata": {},
   "outputs": [
    {
     "name": "stdout",
     "output_type": "stream",
     "text": [
      "matrix M:\n",
      " tensor([[1., 0., 0.],\n",
      "        [0., 1., 0.],\n",
      "        [0., 0., 1.]])\n",
      "--------------------------------------------------\n",
      "matrix M - 1:\n",
      " tensor([[ 0., -1., -1.],\n",
      "        [-1.,  0., -1.],\n",
      "        [-1., -1.,  0.]])\n",
      "--------------------------------------------------\n",
      "matrix M - 1:\n",
      " tensor([[ 0., -1., -1.],\n",
      "        [-1.,  0., -1.],\n",
      "        [-1., -1.,  0.]])\n",
      "--------------------------------------------------\n",
      "matrix M - 1:\n",
      " tensor([[ 0., -1., -1.],\n",
      "        [-1.,  0., -1.],\n",
      "        [-1., -1.,  0.]])\n",
      "--------------------------------------------------\n",
      "matrix M:\n",
      " tensor([[1., 0., 0.],\n",
      "        [0., 1., 0.],\n",
      "        [0., 0., 1.]])\n"
     ]
    }
   ],
   "source": [
    "M = torch.eye(3,3)\n",
    "\n",
    "print('matrix M:\\n', M)\n",
    "print('-' * 50)\n",
    "print('matrix M - 1:\\n', M - 1)\n",
    "print('-' * 50)\n",
    "print('matrix M - 1:\\n', M.sub(1))\n",
    "print('-' * 50)\n",
    "print('matrix M - 1:\\n', torch.sub(M, 1))\n",
    "print('-' * 50)\n",
    "print('matrix M:\\n', M)     # original matrix didn't change"
   ]
  },
  {
   "cell_type": "code",
   "execution_count": 23,
   "metadata": {},
   "outputs": [
    {
     "name": "stdout",
     "output_type": "stream",
     "text": [
      "matrix M - 1:\n",
      " tensor([[ 0., -1., -1.],\n",
      "        [-1.,  0., -1.],\n",
      "        [-1., -1.,  0.]])\n",
      "--------------------------------------------------\n",
      "matrix M:\n",
      " tensor([[ 0., -1., -1.],\n",
      "        [-1.,  0., -1.],\n",
      "        [-1., -1.,  0.]])\n"
     ]
    }
   ],
   "source": [
    "print('matrix M - 1:\\n', M.sub_(1))     # inplace operation\n",
    "print('-' * 50)\n",
    "print('matrix M:\\n', M)     # original matrix changed"
   ]
  },
  {
   "cell_type": "markdown",
   "metadata": {},
   "source": [
    "## Multiplication"
   ]
  },
  {
   "cell_type": "code",
   "execution_count": 24,
   "metadata": {},
   "outputs": [
    {
     "name": "stdout",
     "output_type": "stream",
     "text": [
      "matrix M:\n",
      " tensor([[1., 0., 0.],\n",
      "        [0., 1., 0.],\n",
      "        [0., 0., 1.]])\n",
      "--------------------------------------------------\n",
      "matrix M * 2:\n",
      " tensor([[2., 0., 0.],\n",
      "        [0., 2., 0.],\n",
      "        [0., 0., 2.]])\n",
      "--------------------------------------------------\n",
      "matrix M * 2:\n",
      " tensor([[2., 0., 0.],\n",
      "        [0., 2., 0.],\n",
      "        [0., 0., 2.]])\n",
      "--------------------------------------------------\n",
      "matrix M * 2:\n",
      " tensor([[2., 0., 0.],\n",
      "        [0., 2., 0.],\n",
      "        [0., 0., 2.]])\n",
      "--------------------------------------------------\n",
      "matrix M:\n",
      " tensor([[1., 0., 0.],\n",
      "        [0., 1., 0.],\n",
      "        [0., 0., 1.]])\n"
     ]
    }
   ],
   "source": [
    "M = torch.eye(3,3)\n",
    "\n",
    "print('matrix M:\\n', M)\n",
    "print('-' * 50)\n",
    "print('matrix M * 2:\\n', M * 2)\n",
    "print('-' * 50)\n",
    "print('matrix M * 2:\\n', M.mul(2))\n",
    "print('-' * 50)\n",
    "print('matrix M * 2:\\n', torch.mul(M, 2))\n",
    "print('-' * 50)\n",
    "print('matrix M:\\n', M)     # original matrix didn't change"
   ]
  },
  {
   "cell_type": "code",
   "execution_count": 25,
   "metadata": {},
   "outputs": [
    {
     "name": "stdout",
     "output_type": "stream",
     "text": [
      "matrix M * 2:\n",
      " tensor([[2., 0., 0.],\n",
      "        [0., 2., 0.],\n",
      "        [0., 0., 2.]])\n",
      "--------------------------------------------------\n",
      "matrix M:\n",
      " tensor([[2., 0., 0.],\n",
      "        [0., 2., 0.],\n",
      "        [0., 0., 2.]])\n"
     ]
    }
   ],
   "source": [
    "print('matrix M * 2:\\n', M.mul_(2))     # inplace operation\n",
    "print('-' * 50)\n",
    "print('matrix M:\\n', M)     # original matrix changed"
   ]
  },
  {
   "cell_type": "markdown",
   "metadata": {},
   "source": [
    "## Division"
   ]
  },
  {
   "cell_type": "code",
   "execution_count": 27,
   "metadata": {},
   "outputs": [
    {
     "name": "stdout",
     "output_type": "stream",
     "text": [
      "matrix M:\n",
      " tensor([[1., 0., 0.],\n",
      "        [0., 1., 0.],\n",
      "        [0., 0., 1.]])\n",
      "--------------------------------------------------\n",
      "matrix M / 2:\n",
      " tensor([[0.5000, 0.0000, 0.0000],\n",
      "        [0.0000, 0.5000, 0.0000],\n",
      "        [0.0000, 0.0000, 0.5000]])\n",
      "--------------------------------------------------\n",
      "matrix M / 2:\n",
      " tensor([[0.5000, 0.0000, 0.0000],\n",
      "        [0.0000, 0.5000, 0.0000],\n",
      "        [0.0000, 0.0000, 0.5000]])\n",
      "--------------------------------------------------\n",
      "matrix M / 2:\n",
      " tensor([[0.5000, 0.0000, 0.0000],\n",
      "        [0.0000, 0.5000, 0.0000],\n",
      "        [0.0000, 0.0000, 0.5000]])\n",
      "--------------------------------------------------\n",
      "matrix M:\n",
      " tensor([[1., 0., 0.],\n",
      "        [0., 1., 0.],\n",
      "        [0., 0., 1.]])\n"
     ]
    }
   ],
   "source": [
    "M = torch.eye(3,3)\n",
    "\n",
    "print('matrix M:\\n', M)\n",
    "print('-' * 50)\n",
    "print('matrix M / 2:\\n', M / 2)\n",
    "print('-' * 50)\n",
    "print('matrix M / 2:\\n', M.div(2))\n",
    "print('-' * 50)\n",
    "print('matrix M / 2:\\n', torch.div(M, 2))\n",
    "print('-' * 50)\n",
    "print('matrix M:\\n', M)     # original matrix didn't change"
   ]
  },
  {
   "cell_type": "code",
   "execution_count": 29,
   "metadata": {},
   "outputs": [
    {
     "name": "stdout",
     "output_type": "stream",
     "text": [
      "matrix M / 2:\n",
      " tensor([[0.5000, 0.0000, 0.0000],\n",
      "        [0.0000, 0.5000, 0.0000],\n",
      "        [0.0000, 0.0000, 0.5000]])\n",
      "--------------------------------------------------\n",
      "matrix M:\n",
      " tensor([[0.5000, 0.0000, 0.0000],\n",
      "        [0.0000, 0.5000, 0.0000],\n",
      "        [0.0000, 0.0000, 0.5000]])\n"
     ]
    }
   ],
   "source": [
    "print('matrix M / 2:\\n', M.div_(2))     # inplace operation\n",
    "print('-' * 50)\n",
    "print('matrix M:\\n', M)     # original matrix changed"
   ]
  },
  {
   "attachments": {},
   "cell_type": "markdown",
   "metadata": {},
   "source": [
    "## Matrix Multiplication"
   ]
  },
  {
   "attachments": {},
   "cell_type": "markdown",
   "metadata": {},
   "source": [
    "### 1. Matrix @ Matrix\n",
    "\n",
    "output is a 2-dim. tensor (matrix)"
   ]
  },
  {
   "cell_type": "code",
   "execution_count": 39,
   "metadata": {},
   "outputs": [
    {
     "name": "stdout",
     "output_type": "stream",
     "text": [
      "matrix M shape: torch.Size([3, 4])\n",
      "matrix N shape: torch.Size([4, 2])\n",
      "--------------------------------------------------\n",
      "M @ N shape: torch.Size([3, 2])\n",
      "M @ N shape: torch.Size([3, 2])\n",
      "M @ N shape: torch.Size([3, 2])\n",
      "M @ N shape: torch.Size([3, 2])\n",
      "M @ N shape: torch.Size([3, 2])\n"
     ]
    }
   ],
   "source": [
    "M = torch.randn(3,4)\n",
    "N = torch.randn(4,2)\n",
    "\n",
    "print('matrix M shape:', M.shape)\n",
    "print('matrix N shape:', N.shape)\n",
    "print('-' * 50)\n",
    "\n",
    "# 1 torch.matmul(M, N)\n",
    "print('M @ N shape:', torch.matmul(M, N).shape)\n",
    "\n",
    "# 2 M.matmul(N)\n",
    "print('M @ N shape:', M.matmul(N).shape)\n",
    "\n",
    "# 3 torch.mm(M, N)\n",
    "print('M @ N shape:', torch.mm(M, N).shape)\n",
    "\n",
    "# 4 M.mm(N)\n",
    "print('M @ N shape:', M.mm(N).shape)\n",
    "\n",
    "# 5 M @ N\n",
    "print('M @ N shape:', (M @ N).shape)"
   ]
  },
  {
   "attachments": {},
   "cell_type": "markdown",
   "metadata": {},
   "source": [
    "### 2. Matrix @ Vector\n",
    "\n",
    "output is a 1-dim. tensor (vector)"
   ]
  },
  {
   "cell_type": "code",
   "execution_count": 38,
   "metadata": {},
   "outputs": [
    {
     "name": "stdout",
     "output_type": "stream",
     "text": [
      "matrix M shape: torch.Size([3, 4])\n",
      "vector v shape: torch.Size([4])\n",
      "--------------------------------------------------\n",
      "M @ v shape torch.Size([3])\n",
      "M @ v shape torch.Size([3])\n",
      "M @ v shape torch.Size([3])\n",
      "M @ v shape torch.Size([3])\n",
      "M @ v shape torch.Size([3])\n"
     ]
    }
   ],
   "source": [
    "M = torch.randn(3,4)\n",
    "v = torch.randn(4)\n",
    "\n",
    "print('matrix M shape:', M.shape)\n",
    "print('vector v shape:', v.shape)\n",
    "print('-' * 50)\n",
    "\n",
    "# 1 torch.matmul(M, v)\n",
    "print('M @ v shape:', torch.matmul(M, v).shape)\n",
    "\n",
    "# 2 M.matmul(v)\n",
    "print('M @ v shape:', M.matmul(v).shape)\n",
    "\n",
    "# 3 torch.mv(M, v)\n",
    "print('M @ v shape:', torch.mv(M, v).shape)\n",
    "\n",
    "# 4 M.mv(v)\n",
    "print('M @ v shape:', M.mv(v).shape)\n",
    "\n",
    "# 5 M @ v\n",
    "print('M @ v shape:', (M @ v).shape)"
   ]
  },
  {
   "attachments": {},
   "cell_type": "markdown",
   "metadata": {},
   "source": [
    "### 3. Vector @ Matrix\n",
    "\n",
    "output is a 1-dim. tensor (vector)"
   ]
  },
  {
   "cell_type": "code",
   "execution_count": 69,
   "metadata": {},
   "outputs": [
    {
     "name": "stdout",
     "output_type": "stream",
     "text": [
      "vector v shape: torch.Size([3])\n",
      "matrix M shape: torch.Size([3, 4])\n",
      "--------------------------------------------------\n",
      "v @ M shape: torch.Size([4])\n",
      "v @ M shape: torch.Size([4])\n",
      "v @ M shape: torch.Size([4])\n"
     ]
    }
   ],
   "source": [
    "v = torch.randn(3)\n",
    "M = torch.randn(3,4)\n",
    "\n",
    "print('vector v shape:', v.shape)\n",
    "print('matrix M shape:', M.shape)\n",
    "print('-' * 50)\n",
    "\n",
    "# 1 torch.matmul(v, M)\n",
    "print('v @ M shape:', torch.matmul(v, M).shape)\n",
    "\n",
    "# 2 v.matmul(M)\n",
    "print('v @ M shape:', v.matmul(M).shape)\n",
    "\n",
    "# 3 M @ v\n",
    "print('v @ M shape:', (v @ M).shape)"
   ]
  },
  {
   "attachments": {},
   "cell_type": "markdown",
   "metadata": {},
   "source": [
    "### 4. Vector @ Vector\n",
    "\n",
    "output is a 0-dim. tensor (scalar)"
   ]
  },
  {
   "cell_type": "code",
   "execution_count": 70,
   "metadata": {},
   "outputs": [
    {
     "name": "stdout",
     "output_type": "stream",
     "text": [
      "vector v shape: torch.Size([3])\n",
      "vector w shape: torch.Size([3])\n",
      "--------------------------------------------------\n",
      "v @ w shape: torch.Size([])\n",
      "v @ w shape: torch.Size([])\n",
      "v @ w shape: torch.Size([])\n"
     ]
    }
   ],
   "source": [
    "v = torch.randn(3)\n",
    "w = torch.randn(3)\n",
    "\n",
    "print('vector v shape:', v.shape)\n",
    "print('vector w shape:', w.shape)\n",
    "print('-' * 50)\n",
    "\n",
    "# 1 torch.matmul(v, w)\n",
    "print('v @ w shape:', torch.matmul(v, w).shape)\n",
    "\n",
    "# 2 v.matmul(M)\n",
    "print('v @ w shape:', v.matmul(w).shape)\n",
    "\n",
    "# 3 M @ v\n",
    "print('v @ w shape:', (v @ w).shape)"
   ]
  },
  {
   "attachments": {},
   "cell_type": "markdown",
   "metadata": {},
   "source": [
    "### 5. Tensor @ Matrix"
   ]
  },
  {
   "cell_type": "code",
   "execution_count": 73,
   "metadata": {},
   "outputs": [
    {
     "name": "stdout",
     "output_type": "stream",
     "text": [
      "tensor M shape: torch.Size([5, 3, 4])\n",
      "matrix N shape: torch.Size([4, 2])\n",
      "--------------------------------------------------\n",
      "M @ N shape: torch.Size([5, 3, 2])\n",
      "M @ N shape: torch.Size([5, 3, 2])\n",
      "M @ N shape: torch.Size([5, 3, 2])\n"
     ]
    }
   ],
   "source": [
    "M = torch.randn(5,3,4)\n",
    "N = torch.randn(4,2)\n",
    "\n",
    "print('tensor M shape:', M.shape)\n",
    "print('matrix N shape:', N.shape)\n",
    "print('-' * 50)\n",
    "\n",
    "# 1 torch.matmul(M, N)\n",
    "print('M @ N shape:', torch.matmul(M, N).shape)\n",
    "\n",
    "# 2 M.matmul(N)\n",
    "print('M @ N shape:', M.matmul(N).shape)\n",
    "\n",
    "# 3 M @ N\n",
    "print('M @ N shape:', (M @ N).shape)"
   ]
  },
  {
   "attachments": {},
   "cell_type": "markdown",
   "metadata": {},
   "source": [
    "### 5. Matrix @ Tensor"
   ]
  },
  {
   "cell_type": "code",
   "execution_count": 75,
   "metadata": {},
   "outputs": [
    {
     "name": "stdout",
     "output_type": "stream",
     "text": [
      "matrix M shape: torch.Size([3, 4])\n",
      "tensor N shape: torch.Size([5, 4, 2])\n",
      "--------------------------------------------------\n",
      "M @ N shape: torch.Size([5, 3, 2])\n",
      "M @ N shape: torch.Size([5, 3, 2])\n",
      "M @ N shape: torch.Size([5, 3, 2])\n"
     ]
    }
   ],
   "source": [
    "M = torch.randn(3,4)\n",
    "N = torch.randn(5,4,2)\n",
    "\n",
    "print('matrix M shape:', M.shape)\n",
    "print('tensor N shape:', N.shape)\n",
    "print('-' * 50)\n",
    "\n",
    "# 1 torch.matmul(M, N)\n",
    "print('M @ N shape:', torch.matmul(M, N).shape)\n",
    "\n",
    "# 2 M.matmul(N)\n",
    "print('M @ N shape:', M.matmul(N).shape)\n",
    "\n",
    "# 3 M @ N\n",
    "print('M @ N shape:', (M @ N).shape)"
   ]
  },
  {
   "attachments": {},
   "cell_type": "markdown",
   "metadata": {},
   "source": [
    "### Conclusion\n",
    "\n",
    "stick to **torch.matmul** or **@** which can be widely applied"
   ]
  }
 ],
 "metadata": {
  "kernelspec": {
   "display_name": "DL",
   "language": "python",
   "name": "python3"
  },
  "language_info": {
   "codemirror_mode": {
    "name": "ipython",
    "version": 3
   },
   "file_extension": ".py",
   "mimetype": "text/x-python",
   "name": "python",
   "nbconvert_exporter": "python",
   "pygments_lexer": "ipython3",
   "version": "3.8.16"
  },
  "orig_nbformat": 4
 },
 "nbformat": 4,
 "nbformat_minor": 2
}
