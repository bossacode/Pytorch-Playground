{
 "cells": [
  {
   "cell_type": "code",
   "execution_count": 5,
   "metadata": {},
   "outputs": [],
   "source": [
    "import torch\n",
    "import torch.nn as nn\n",
    "import numpy as np\n",
    "import gudhi\n",
    "import sys"
   ]
  },
  {
   "cell_type": "code",
   "execution_count": 58,
   "metadata": {},
   "outputs": [
    {
     "name": "stdout",
     "output_type": "stream",
     "text": [
      "[tensor([-1.0000, -0.7778, -0.5556, -0.3333, -0.1111,  0.1111,  0.3333,  0.5556,\n",
      "         0.7778,  1.0000]), tensor([ 1., -1.]), tensor([-1.,  0.,  1.])]\n"
     ]
    }
   ],
   "source": [
    "# for [1, 28, 28] image: lims = [[1, -1], [-1, 1]], by= [-1/13.5, 1/13.5]\n",
    "# for [3, 28, 28] image: lims = [[-1, 1], [1, -1], [-1, 1]], by= [1, -1/13.5, 1/13.5]\n",
    "\n",
    "def grid_by(lims=[[1,-1], [-1,1]], shape=(28,28)):\n",
    "    \"\"\"\n",
    "    Creates a tensor of grid points with shape [(C*H*W), D]\n",
    "    Grid points have one-to-one correspondnce with pixel values flattened in row-major order\n",
    "    \n",
    "    * D = 2 if 1-channel or D=3 if 3-channel\n",
    "\n",
    "    Args:\n",
    "        lims: [domain of C, domain of H, domain of W] if C > 1 or [domain of H, domain of W] if 1-channel\n",
    "        size: (C, H, W) if C > 1 or (H, W) if 1-channel\n",
    "    \"\"\"\n",
    "    assert len(shape) in (2,3) and len(lims) == len(shape)\n",
    "    expansions = [torch.linspace(start, end, step) for (start, end), step in zip(lims, shape)]\n",
    "    print(expansions)\n",
    "    grid_size = [len(ex) for ex in expansions]  # [H, W] if 1-channel or [C, H, W] if 3-channel\n",
    "    grid = torch.index_select(torch.cartesian_prod(*expansions),\n",
    "                              dim=1,\n",
    "                              index=torch.tensor([0,2,1]) if len(lims)==3 else torch.tensor([1,0]))\n",
    "    return grid, grid_size\n",
    "\n",
    "\n",
    "grid, grid_size = grid_by(lims = [[-1, 1], [1, -1], [-1, 1]], shape=(10,2,3))\n"
   ]
  },
  {
   "cell_type": "code",
   "execution_count": null,
   "metadata": {},
   "outputs": [],
   "source": [
    "torch.linspace()"
   ]
  },
  {
   "cell_type": "code",
   "execution_count": 65,
   "metadata": {},
   "outputs": [
    {
     "data": {
      "text/plain": [
       "torch.Size([3, 4])"
      ]
     },
     "execution_count": 65,
     "metadata": {},
     "output_type": "execute_result"
    }
   ],
   "source": [
    "x = torch.zeros(2,3,4)\n",
    "y = torch.zeros(3,4)\n",
    "x.shape[1:]"
   ]
  },
  {
   "cell_type": "code",
   "execution_count": 8,
   "metadata": {},
   "outputs": [
    {
     "data": {
      "text/plain": [
       "(3, 4, 6)"
      ]
     },
     "execution_count": 8,
     "metadata": {},
     "output_type": "execute_result"
    }
   ],
   "source": [
    "x = np.arange(3*4*5).reshape(3,4,5)\n",
    "y = np.arange(6*5).reshape(5,6)\n",
    "z = np.dot(x, y)\n",
    "z.shape"
   ]
  },
  {
   "cell_type": "code",
   "execution_count": 38,
   "metadata": {},
   "outputs": [],
   "source": [
    "x = torch.rand(784)\n",
    "x = torch.where(x<0.7, 0, x)\n",
    "cub_cpx = gudhi.CubicalComplex(dimensions=[28,28], top_dimensional_cells=x)\n",
    "ph = cub_cpx.persistence(homology_coeff_field=2, min_persistence=0)\n",
    "loc = cub_cpx.cofaces_of_persistence_pairs()"
   ]
  },
  {
   "cell_type": "code",
   "execution_count": 52,
   "metadata": {},
   "outputs": [
    {
     "data": {
      "text/plain": [
       "array([], shape=(0, 2), dtype=int64)"
      ]
     },
     "execution_count": 52,
     "metadata": {},
     "output_type": "execute_result"
    }
   ],
   "source": [
    "loc[0][0]"
   ]
  },
  {
   "cell_type": "code",
   "execution_count": 11,
   "metadata": {},
   "outputs": [
    {
     "data": {
      "text/plain": [
       "tensor([[0., 0., 0., 0.]])"
      ]
     },
     "execution_count": 11,
     "metadata": {},
     "output_type": "execute_result"
    }
   ],
   "source": [
    "y = torch.zeros(3,4)\n",
    "y[:1]"
   ]
  },
  {
   "cell_type": "code",
   "execution_count": 16,
   "metadata": {},
   "outputs": [],
   "source": [
    "x = torch.ones(2, requires_grad=True)\n",
    "y = torch.zeros(2, requires_grad=True)\n",
    "z = x * y"
   ]
  },
  {
   "cell_type": "code",
   "execution_count": 19,
   "metadata": {},
   "outputs": [
    {
     "name": "stdout",
     "output_type": "stream",
     "text": [
      "<MulBackward0 object at 0x7f7e545845b0>\n"
     ]
    }
   ],
   "source": [
    "print(z.grad_fn)"
   ]
  },
  {
   "cell_type": "code",
   "execution_count": 87,
   "metadata": {},
   "outputs": [
    {
     "data": {
      "text/plain": [
       "(tensor([1., 1.], requires_grad=True),\n",
       " tensor([0., 0.]),\n",
       " tensor([0., 0.], grad_fn=<MulBackward0>))"
      ]
     },
     "execution_count": 87,
     "metadata": {},
     "output_type": "execute_result"
    }
   ],
   "source": [
    "x, y, z"
   ]
  },
  {
   "cell_type": "code",
   "execution_count": 88,
   "metadata": {},
   "outputs": [
    {
     "data": {
      "text/plain": [
       "(True, True, False)"
      ]
     },
     "execution_count": 88,
     "metadata": {},
     "output_type": "execute_result"
    }
   ],
   "source": [
    "x.is_leaf, y.is_leaf, z.is_leaf"
   ]
  },
  {
   "cell_type": "code",
   "execution_count": 94,
   "metadata": {},
   "outputs": [
    {
     "data": {
      "text/plain": [
       "['__call__',\n",
       " '__class__',\n",
       " '__delattr__',\n",
       " '__dir__',\n",
       " '__doc__',\n",
       " '__eq__',\n",
       " '__format__',\n",
       " '__ge__',\n",
       " '__getattribute__',\n",
       " '__gt__',\n",
       " '__hash__',\n",
       " '__init__',\n",
       " '__init_subclass__',\n",
       " '__le__',\n",
       " '__lt__',\n",
       " '__ne__',\n",
       " '__new__',\n",
       " '__reduce__',\n",
       " '__reduce_ex__',\n",
       " '__repr__',\n",
       " '__setattr__',\n",
       " '__sizeof__',\n",
       " '__str__',\n",
       " '__subclasshook__',\n",
       " '_raw_saved_other',\n",
       " '_raw_saved_self',\n",
       " '_register_hook_dict',\n",
       " '_saved_other',\n",
       " '_saved_self',\n",
       " 'metadata',\n",
       " 'name',\n",
       " 'next_functions',\n",
       " 'register_hook',\n",
       " 'register_prehook',\n",
       " 'requires_grad']"
      ]
     },
     "execution_count": 94,
     "metadata": {},
     "output_type": "execute_result"
    }
   ],
   "source": [
    "dir(z.grad_fn)"
   ]
  },
  {
   "cell_type": "code",
   "execution_count": 95,
   "metadata": {},
   "outputs": [
    {
     "data": {
      "text/plain": [
       "116752448"
      ]
     },
     "execution_count": 95,
     "metadata": {},
     "output_type": "execute_result"
    }
   ],
   "source": [
    "c = torch.tensor(1)\n",
    "c.data_ptr()"
   ]
  },
  {
   "cell_type": "code",
   "execution_count": 98,
   "metadata": {},
   "outputs": [
    {
     "data": {
      "text/plain": [
       "116630720"
      ]
     },
     "execution_count": 98,
     "metadata": {},
     "output_type": "execute_result"
    }
   ],
   "source": [
    "c = c + 1\n",
    "c.data_ptr()"
   ]
  }
 ],
 "metadata": {
  "kernelspec": {
   "display_name": "DL",
   "language": "python",
   "name": "python3"
  },
  "language_info": {
   "codemirror_mode": {
    "name": "ipython",
    "version": 3
   },
   "file_extension": ".py",
   "mimetype": "text/x-python",
   "name": "python",
   "nbconvert_exporter": "python",
   "pygments_lexer": "ipython3",
   "version": "3.10.13"
  },
  "orig_nbformat": 4
 },
 "nbformat": 4,
 "nbformat_minor": 2
}
